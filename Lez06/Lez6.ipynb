{
 "cells": [
  {
   "cell_type": "markdown",
   "metadata": {},
   "source": [
    "## Recap Lez 5\n",
    "* string.format()\n",
    "* liste\n",
    "* copiare una lista\n",
    "* liste annidate\n",
    "* copy vs  deepcopy di una lista"
   ]
  },
  {
   "cell_type": "markdown",
   "metadata": {},
   "source": [
    "## Comunicazioni\n",
    "### Nuovo Orario\n",
    "\n",
    "* 10 Maggio 16-18, aula 3A, S\n",
    "* 15 Maggio, 16:15-18:00, aula 3A, S\n",
    "* 17 Maggio, 16:15-18:00, aula 3A, S\n",
    "* ~~22 Maggio (martedì), 16:15-18:00, aula 3A, S~~ (**Da spostare**)\n",
    "* 30 Maggio (mercoledì), 14:15-16:00, aula 3A, N \n",
    "* 31 Maggio, 16:15-18:00, aula 3A, S+N (Esame)\n",
    "\n",
    "### Django Girls\n",
    "##### We inspire women to fall in love with programming <3 <3.  (https://djangogirls.org/) \n"
   ]
  },
  {
   "cell_type": "markdown",
   "metadata": {},
   "source": [
    "### Dove eravamo rimasti..."
   ]
  },
  {
   "cell_type": "code",
   "execution_count": null,
   "metadata": {},
   "outputs": [],
   "source": [
    "#scrivere la funzione randomNumber che accetta come input un numero intero (n) tra 0 e 9 e genera una stringa di numeri\n",
    "#random che devono contenere n solo in ultima posizione. Se n non è in [0,9] la funzione deve ritornare 'fail'.\n",
    "#Esempio: \n",
    "#randomNumber(3) può generare 124573, oppure 14587413 ma non deve generare 13245783 (perchè c'è un 3\n",
    "#in posizione 2), 124574 (perchè non c'è il 3) etc. \n",
    "#randomNumber(57) ritorna 'fail' perchè 57 non è in [0,9]\n",
    "import random\n",
    "def randomNumber(n):\n",
    "    s = str(n)\n",
    "    condition = s in '0123456789' # ERRORE: controlla se esiste una sottostringa di '0123456789' uguale a s,\n",
    "    if not condition:             # quindi anche 12 23 45 sono in '0123456789' .... \n",
    "        res= 'fail'\n",
    "    else:\n",
    "        exit = 'p'\n",
    "        res = ''\n",
    "        while exit!= s:\n",
    "            exit=str(random.randint(0,9))\n",
    "            res =res+exit\n",
    "    return res"
   ]
  },
  {
   "cell_type": "code",
   "execution_count": null,
   "metadata": {},
   "outputs": [],
   "source": [
    "'0' in '0123456789'"
   ]
  },
  {
   "cell_type": "code",
   "execution_count": null,
   "metadata": {},
   "outputs": [],
   "source": [
    "'12' in '0123456789'"
   ]
  },
  {
   "cell_type": "code",
   "execution_count": null,
   "metadata": {},
   "outputs": [],
   "source": [
    "'567' in '0123456789'"
   ]
  },
  {
   "cell_type": "code",
   "execution_count": null,
   "metadata": {},
   "outputs": [],
   "source": [
    "list('0123456789')"
   ]
  },
  {
   "cell_type": "code",
   "execution_count": null,
   "metadata": {},
   "outputs": [],
   "source": [
    "'12' in list('0123456789')"
   ]
  },
  {
   "cell_type": "code",
   "execution_count": null,
   "metadata": {},
   "outputs": [],
   "source": [
    "#versione corretta 1\n",
    "import random\n",
    "def randomNumberCorrect(n):\n",
    "    s = str(n)\n",
    "    condition = s in list('0123456789')\n",
    "    if not condition:             \n",
    "        res= 'fail'\n",
    "    else:\n",
    "        exit = 'p'\n",
    "        res = ''\n",
    "        while exit!= s:\n",
    "            exit=str(random.randint(0,9))\n",
    "            res =res+exit\n",
    "    return res"
   ]
  },
  {
   "cell_type": "code",
   "execution_count": null,
   "metadata": {},
   "outputs": [],
   "source": [
    "#versione corretta 2\n",
    "import random\n",
    "def randomNumberCorrect(n):\n",
    "    s = str(n)\n",
    "    condition = s.isdecimal() and len(s)==1 \n",
    "    if not condition:           \n",
    "        res= 'fail'\n",
    "    else:\n",
    "        exit = 'p'\n",
    "        res = ''\n",
    "        while exit!= s:\n",
    "            exit=str(random.randint(0,9))\n",
    "            res =res+exit\n",
    "    return res"
   ]
  },
  {
   "cell_type": "markdown",
   "metadata": {},
   "source": [
    "### Esercizio Insieme: parentesi tonde"
   ]
  },
  {
   "cell_type": "markdown",
   "metadata": {},
   "source": [
    "<img src=\"fig/esercizio.png\" width=\"600\">"
   ]
  },
  {
   "cell_type": "code",
   "execution_count": null,
   "metadata": {},
   "outputs": [],
   "source": [
    "#facile\n",
    "def checkParentesi(parentesi):\n",
    "    n=0\n",
    "    for p in parentesi:\n",
    "        if p =='(':\n",
    "            n=n+1\n",
    "        elif n>0:\n",
    "            n=n-1\n",
    "        else:\n",
    "            return False\n",
    "    return n==0"
   ]
  },
  {
   "cell_type": "code",
   "execution_count": null,
   "metadata": {},
   "outputs": [],
   "source": [
    "checkParentesi('(())(((')"
   ]
  },
  {
   "cell_type": "markdown",
   "metadata": {},
   "source": [
    "### Esercizio per casa (1)\n"
   ]
  },
  {
   "cell_type": "code",
   "execution_count": null,
   "metadata": {},
   "outputs": [],
   "source": [
    "#generalizzare l'esercizio delle parentesi alle parentesi tonde, quadre e graffe. \n",
    "#Creare una funzione che riconosca per sempio  se \"()[}\" è ben formata.\n",
    "\n",
    "#versione facile: non cosiderate l'ordine di \"contenimento\", \n",
    "#ovvero considerate lecite queste stringe:\n",
    "# '([])', '({[(){}]})', preoccupatevi solo che le parentesi di un determinato tipo si chiudano\n",
    "#con lo stesso tipo. \n",
    "\n",
    "#versione difficile: tenete conto dell'ordine di \"contenimento\", quindi non posso avere\n",
    "#parentesi quadre racchiuse dentro parentesi tonde etc. Questo non è lecito: '([])', \n",
    "#questo è lecito:'[()]'\n"
   ]
  },
  {
   "cell_type": "markdown",
   "metadata": {},
   "source": [
    "### Esercizio insieme: \"swap the values\" - normal mode"
   ]
  },
  {
   "cell_type": "code",
   "execution_count": null,
   "metadata": {},
   "outputs": [],
   "source": [
    "x = 34\n",
    "y = 6 \n",
    "#init code here\n",
    "appo = x \n",
    "x = y\n",
    "y = appo\n",
    "#end core\n",
    "print('x=',x)\n",
    "print('y=',y)\n",
    "   "
   ]
  },
  {
   "cell_type": "markdown",
   "metadata": {},
   "source": [
    "## Tuple\n",
    "Sono liste di valori separati da virgole. Non è necessaria ma è convenzionale racchiuderle fra parentesi tonde.\n",
    "\n",
    "Sono immutabili!!!"
   ]
  },
  {
   "cell_type": "code",
   "execution_count": null,
   "metadata": {},
   "outputs": [],
   "source": [
    "vuota = () #vuota = tuple()\n",
    "type(vuota)"
   ]
  },
  {
   "cell_type": "code",
   "execution_count": null,
   "metadata": {},
   "outputs": [],
   "source": [
    "tupla = (2,)\n",
    "type(tupla)"
   ]
  },
  {
   "cell_type": "code",
   "execution_count": null,
   "metadata": {},
   "outputs": [],
   "source": [
    "tupla = (2,)\n",
    "type(tupla)"
   ]
  },
  {
   "cell_type": "code",
   "execution_count": null,
   "metadata": {},
   "outputs": [],
   "source": [
    "#accesso a un elemento\n",
    "tupla=(4,5,6)\n",
    "tupla[0]"
   ]
  },
  {
   "cell_type": "code",
   "execution_count": null,
   "metadata": {},
   "outputs": [],
   "source": [
    "#le tuple sono immutabili\n",
    "tupla=(4,5,6)\n",
    "tupla[0]=5"
   ]
  },
  {
   "cell_type": "code",
   "execution_count": null,
   "metadata": {},
   "outputs": [],
   "source": [
    "# diciamo che voglio cambiare il primo elemento della tupla, come faccio? \n",
    "# tupla=(4,5,6) -> tupla=(5,5,6)\n",
    "#init code here\n",
    "tupla2 = (5,)+ tupla[1:]\n",
    "#end core\n",
    "tupla2"
   ]
  },
  {
   "cell_type": "code",
   "execution_count": null,
   "metadata": {},
   "outputs": [],
   "source": [
    "#cose utili\n",
    "(a,b,c) = (1,2,3)\n",
    "print('a=',a)\n",
    "print('b=',b)\n",
    "print('c=',c)"
   ]
  },
  {
   "cell_type": "markdown",
   "metadata": {},
   "source": [
    "### Esercizio insieme: \"swap the values\"  - superhero mode"
   ]
  },
  {
   "cell_type": "code",
   "execution_count": null,
   "metadata": {},
   "outputs": [],
   "source": [
    "x = 34\n",
    "y = 6 \n",
    "#init code here\n",
    "x,y = y,x\n",
    "#end core\n",
    "print('x=',x)\n",
    "print('y=',y)"
   ]
  },
  {
   "cell_type": "code",
   "execution_count": null,
   "metadata": {},
   "outputs": [],
   "source": [
    "def cercaMaggiore(lista,n): #cerca nella lista l un intero maggiore di n\n",
    "    for i in range(len(lista)):        \n",
    "        if lista[i]>n:\n",
    "            return i,lista[i]  #se lo trova restituisce l'indice e il valore\n",
    "    return  None,None   #se NON lo trova restituisce None,None\n",
    "\n",
    "l=[7,2,11,27]\n",
    "result=cercaMaggiore(l,8)\n",
    "print(result)\n",
    "print('indice del maggiore:',result[0],'\\nvalore del maggiore:',result[1])"
   ]
  },
  {
   "cell_type": "markdown",
   "metadata": {},
   "source": [
    "### Dizionari "
   ]
  },
  {
   "cell_type": "code",
   "execution_count": null,
   "metadata": {},
   "outputs": [],
   "source": [
    "dizionario = dict()"
   ]
  },
  {
   "cell_type": "code",
   "execution_count": null,
   "metadata": {},
   "outputs": [],
   "source": [
    "dizionario = {}"
   ]
  },
  {
   "cell_type": "markdown",
   "metadata": {},
   "source": [
    "dizionario = {chiave: valore}, la chiave può essere un qualsisi oggetto **immutabile**, come tuple, stringe, interi etc.."
   ]
  },
  {
   "cell_type": "code",
   "execution_count": null,
   "metadata": {},
   "outputs": [],
   "source": [
    "#se uso come chiave una lista... \n",
    "dizionario = {[1,2]:3}"
   ]
  },
  {
   "cell_type": "code",
   "execution_count": null,
   "metadata": {},
   "outputs": [],
   "source": [
    "Voti={'Antonio':27, 'Erica':30, 'Luca':20, 'Caterina':18 }"
   ]
  },
  {
   "cell_type": "code",
   "execution_count": null,
   "metadata": {},
   "outputs": [],
   "source": [
    "#leggere un valore\n",
    "Voti['Antonio']"
   ]
  },
  {
   "cell_type": "code",
   "execution_count": null,
   "metadata": {},
   "outputs": [],
   "source": [
    "#aggiungere un elemento\n",
    "Voti['Ludovica'] = 30"
   ]
  },
  {
   "cell_type": "code",
   "execution_count": null,
   "metadata": {},
   "outputs": [],
   "source": [
    "print(Voti)"
   ]
  },
  {
   "cell_type": "code",
   "execution_count": null,
   "metadata": {},
   "outputs": [],
   "source": [
    "#cambiare un valore\n",
    "Voti['Antonio']=Voti['Antonio']-1\n",
    "Voti['Ludovica'] = 29"
   ]
  },
  {
   "cell_type": "code",
   "execution_count": null,
   "metadata": {},
   "outputs": [],
   "source": [
    "#cancellare un elemento\n",
    "del Voti['Luca']"
   ]
  },
  {
   "cell_type": "code",
   "execution_count": null,
   "metadata": {},
   "outputs": [],
   "source": [
    "Voti"
   ]
  },
  {
   "cell_type": "markdown",
   "metadata": {},
   "source": [
    "**non è una struttura ordinata.... quindi ... **"
   ]
  },
  {
   "cell_type": "code",
   "execution_count": null,
   "metadata": {},
   "outputs": [],
   "source": [
    "Voti[0]='p'"
   ]
  },
  {
   "cell_type": "code",
   "execution_count": null,
   "metadata": {},
   "outputs": [],
   "source": [
    "\n",
    "Voti[0]"
   ]
  },
  {
   "cell_type": "markdown",
   "metadata": {},
   "source": [
    "### Dizionari: i metodi "
   ]
  },
  {
   "cell_type": "code",
   "execution_count": null,
   "metadata": {},
   "outputs": [],
   "source": [
    "#Numero di coppie chiave:valore\n",
    "len(Voti)"
   ]
  },
  {
   "cell_type": "code",
   "execution_count": null,
   "metadata": {},
   "outputs": [],
   "source": [
    "list(Voti.keys())"
   ]
  },
  {
   "cell_type": "code",
   "execution_count": null,
   "metadata": {},
   "outputs": [],
   "source": [
    "list(Voti.values()) #lista valori"
   ]
  },
  {
   "cell_type": "code",
   "execution_count": null,
   "metadata": {},
   "outputs": [],
   "source": [
    "list(Voti.items())"
   ]
  },
  {
   "cell_type": "code",
   "execution_count": null,
   "metadata": {},
   "outputs": [],
   "source": [
    "'Ludovica' in Voti.keys() "
   ]
  },
  {
   "cell_type": "code",
   "execution_count": null,
   "metadata": {},
   "outputs": [],
   "source": [
    "#non è ordinato, e non rispetta l'ordine di inserimento!! \n",
    "for i in Voti:\n",
    "    print(i) "
   ]
  },
  {
   "cell_type": "code",
   "execution_count": null,
   "metadata": {},
   "outputs": [],
   "source": [
    "Voti"
   ]
  },
  {
   "cell_type": "markdown",
   "metadata": {},
   "source": [
    "### Esercizio per casa (2)\n",
    "completare l'esercizio qui sotto. "
   ]
  },
  {
   "cell_type": "code",
   "execution_count": null,
   "metadata": {},
   "outputs": [],
   "source": [
    "#Contare la frequenza delle lettere nella stringa sottostante \n",
    "#e ritornare un dizionario che associa ad ogni lettera quante volte è stata usata.\n",
    "#identificare poi la letter con frequenza maggiore e quella con frequenza minore. \n",
    "\n",
    "frase='supercalifragilistichespiralidoso'\n",
    "\n",
    "lettere={}\n",
    "for p in frase:\n",
    "    if(p in lettere):\n",
    "        lettere[p]=lettere[p]+1\n",
    "    else:\n",
    "        lettere[p]=1\n",
    "\n",
    "lettere\n"
   ]
  },
  {
   "cell_type": "markdown",
   "metadata": {},
   "source": [
    "### Esercizio per casa (3)\n"
   ]
  },
  {
   "cell_type": "code",
   "execution_count": null,
   "metadata": {},
   "outputs": [],
   "source": [
    "# anagrammi, utilizzando i dizionari creare una funzione che \n",
    "#torna True se due parola sono uno l'anagramma dell'altro, False atrimenti\n",
    "def checkAnagramma(parola1,parola2):\n",
    "    #init code here \n",
    "    #end code here \n",
    "    "
   ]
  },
  {
   "cell_type": "markdown",
   "metadata": {},
   "source": [
    "###  Attenzione alle funzioni ricorsive!"
   ]
  },
  {
   "cell_type": "markdown",
   "metadata": {},
   "source": [
    "### la funzione ricorsiva fibonacci (che avevamo definito) ha un \"problema\"!! effettua troppe chiamate ricorsive..."
   ]
  },
  {
   "cell_type": "code",
   "execution_count": null,
   "metadata": {},
   "outputs": [],
   "source": [
    "# fibonacci old \n",
    "#f(0)=1\n",
    "#f(1)=1\n",
    "#f(n)=f(n-1)+f(n-2)\n",
    "def fibonacci(n):\n",
    "    if n<=1:\n",
    "        print('[+]fibonacci{}'.format(n))\n",
    "        return 1\n",
    "    \n",
    "    print('[-]fibonacci{}'.format(n))\n",
    "    return fibonacci(n-1)+fibonacci(n-2)\n",
    "\n",
    "fibonacci(5)"
   ]
  },
  {
   "cell_type": "markdown",
   "metadata": {},
   "source": [
    "<img src=\"fig/Lez6-1.png\" width=\"450\">"
   ]
  },
  {
   "cell_type": "markdown",
   "metadata": {},
   "source": [
    "<img src=\"fig/Lez6-2.png\" width=\"450\">"
   ]
  },
  {
   "cell_type": "markdown",
   "metadata": {},
   "source": [
    "<img src=\"fig/Lez6-3.png\" width=\"450\">"
   ]
  },
  {
   "cell_type": "markdown",
   "metadata": {},
   "source": [
    "<img src=\"fig/Lez6-4.png\" width=\"450\">"
   ]
  },
  {
   "cell_type": "code",
   "execution_count": null,
   "metadata": {},
   "outputs": [],
   "source": [
    "#fibonacci new: utilizziamo i dizionari\n",
    "memory={0:1,1:1}\n",
    "def superFibonacci(n):\n",
    "    if n in memory:\n",
    "        print('[+]fibonacci{}'.format(n))\n",
    "        return memory[n]\n",
    "    else:\n",
    "        print('[-]fibonacci{}'.format(n))\n",
    "        NuovoValore = superFibonacci(n-1) + superFibonacci(n-2)\n",
    "        memory[n] = NuovoValore\n",
    "        return NuovoValore "
   ]
  },
  {
   "cell_type": "code",
   "execution_count": null,
   "metadata": {},
   "outputs": [],
   "source": [
    "superFibonacci(5)"
   ]
  },
  {
   "cell_type": "markdown",
   "metadata": {},
   "source": [
    "### Esercizi per casa: \n",
    "* da questo notebook avete 3 esercizi denominati: **Esercizio per casa (X)**, dove X=1,2,3\n",
    "\n",
    "* dal notebook precedente (cartella Lez5_Ripasso) avete **l'esercizio Fizz-Buz** che ripropongo qui sotto:\n",
    "\n",
    "#### Esercizio:Fizz Buzz (https://en.wikipedia.org/wiki/Fizz_buzz)\n",
    "Creare la funzione fizzBuzz(n) che prende in input un numero intero **n**, e ritorna la stringa:\n",
    "* 'fizz' se **n** è divisibile per 3\n",
    "* 'buzz' se **n** è divisibile per 5\n",
    "* 'fizz-buzz' se **n** è divisibile sia per 3 che per 5\n",
    "* '**n**' negli altri casi. "
   ]
  },
  {
   "cell_type": "markdown",
   "metadata": {},
   "source": [
    "\n",
    "\n",
    "\n"
   ]
  },
  {
   "cell_type": "code",
   "execution_count": null,
   "metadata": {},
   "outputs": [],
   "source": []
  }
 ],
 "metadata": {
  "kernelspec": {
   "display_name": "Python 3",
   "language": "python",
   "name": "python3"
  },
  "language_info": {
   "codemirror_mode": {
    "name": "ipython",
    "version": 3
   },
   "file_extension": ".py",
   "mimetype": "text/x-python",
   "name": "python",
   "nbconvert_exporter": "python",
   "pygments_lexer": "ipython3",
   "version": "3.6.2"
  }
 },
 "nbformat": 4,
 "nbformat_minor": 2
}
