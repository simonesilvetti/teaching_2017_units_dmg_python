{
 "cells": [
  {
   "cell_type": "markdown",
   "metadata": {},
   "source": [
    "# Esercizi"
   ]
  },
  {
   "cell_type": "markdown",
   "metadata": {},
   "source": [
    "**1**-\n",
    "Definire una funzione che prende in ingresso una stringa e restituisce una stringa di due caratteri. Il primo carattere corrispondente al carattere più frequente(il primo incontrato se ce n'è più di uno), il secondo corrispondente al penultimo carattere.\n",
    "Se la stringa in input a meno di due caratteri la funzione mi devo tornare la stringa vuota."
   ]
  },
  {
   "cell_type": "code",
   "execution_count": null,
   "metadata": {},
   "outputs": [],
   "source": [
    "def esercizio1(s):\n",
    "    if len(s)<2:\n",
    "        return ''\n",
    "    maxF=s.count(s[0])\n",
    "    chMax=s[0]\n",
    "    for i in range(1,len(s)):\n",
    "        if s.count(s[i])>maxF:\n",
    "            maxF=s.count(s[i])\n",
    "            chMax=s[i]         \n",
    "    return chMax+s[-2]"
   ]
  },
  {
   "cell_type": "code",
   "execution_count": null,
   "metadata": {},
   "outputs": [],
   "source": [
    "esercizio1('ciao io mi chiamo gigi')"
   ]
  },
  {
   "cell_type": "markdown",
   "metadata": {},
   "source": [
    "**2**-\n",
    "Definire una funzione che riceve in input una lista di numeri interi e restituisce una nuova lista ordinata contenente tutti gli interi delle prima lista dispari o minori di 0. \n",
    "Esempio [17, 4, -3, -2, 10] -> [-2,-3,17]"
   ]
  },
  {
   "cell_type": "code",
   "execution_count": null,
   "metadata": {},
   "outputs": [],
   "source": [
    "def esercizio2(listaInput):\n",
    "    listaOutput=[]\n",
    "    for i in range(len(listaInput)):\n",
    "        if listaInput[i]%2==1 or listaInput[i]<0:\n",
    "            listaOutput.append(listaInput[i])\n",
    "    listaOutput.sort()      \n",
    "    return listaOutput"
   ]
  },
  {
   "cell_type": "code",
   "execution_count": null,
   "metadata": {},
   "outputs": [],
   "source": [
    "esercizio2([17, 4, -3, -2, 10])"
   ]
  }
 ],
 "metadata": {
  "kernelspec": {
   "display_name": "Python 3",
   "language": "python",
   "name": "python3"
  },
  "language_info": {
   "codemirror_mode": {
    "name": "ipython",
    "version": 3
   },
   "file_extension": ".py",
   "mimetype": "text/x-python",
   "name": "python",
   "nbconvert_exporter": "python",
   "pygments_lexer": "ipython3",
   "version": "3.6.2"
  }
 },
 "nbformat": 4,
 "nbformat_minor": 2
}
