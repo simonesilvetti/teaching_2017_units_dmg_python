{
 "cells": [
  {
   "cell_type": "markdown",
   "metadata": {},
   "source": [
    "### Comunicazione (orario)\n",
    "\n",
    "* 5 Aprile, 16-18, aula 3A, N\n",
    "* 6 Aprile, 14-16, aula 3B, N\n",
    "* 9 Aprile, 16-18, aula 5A, N\n",
    "* 10 Aprile 9-11, aula 3A, N\n",
    "* 24 Aprile 16-18, aula 3A, S\n",
    "* 3 Maggio 16-18, aula 3A, S (**da recuperare**)\n",
    "* 10 Maggio 16-18, aula 3A, S\n",
    "* 15 Maggio, 16-18, aula 3A, S\n",
    "* 17 Maggio, 16-18, aula 3A, S\n",
    "* 30 Maggio (merc), 14-16, aula 3A, N\n",
    "* 31 Maggio (giov), 16-18, aula 3A, N\n",
    "* 5 Giugno (mar), 16-18, aula 3A, S [**Recupero del 3 Maggio**]\n",
    "* 7 Giugno (giov), 16-18, aula 3A, S [**Esame**]"
   ]
  },
  {
   "cell_type": "markdown",
   "metadata": {},
   "source": [
    "### Argomenti Lezione 6\n",
    "* Concetti base di programmazione a oggetti (vedi anche Lez5_Ripasso).\n",
    "* Tuple\n",
    "* Dizionari\n"
   ]
  },
  {
   "cell_type": "markdown",
   "metadata": {},
   "source": [
    "### Soluzione Esercizio per casa (1)"
   ]
  },
  {
   "cell_type": "code",
   "execution_count": null,
   "metadata": {},
   "outputs": [],
   "source": [
    "#generalizzare l'esercizio delle parentesi alle parentesi tonde, quadre e graffe. \n",
    "#Creare una funzione che riconosca per sempio  se \"()[}\" è ben formata.\n",
    "\n",
    "#versione facile: non cosiderate l'ordine di \"contenimento\", \n",
    "#ovvero considerate lecite queste stringe:\n",
    "# '([])', '({[(){}]})', preoccupatevi solo che le parentesi di un determinato tipo si chiudano\n",
    "#con lo stesso tipo. \n",
    "\n",
    "#versione difficile: tenete conto dell'ordine di \"contenimento\", quindi non posso avere\n",
    "#parentesi quadre racchiuse dentro parentesi tonde etc. Questo non è lecito: '([])', \n",
    "#questo è lecito:'[()]'"
   ]
  },
  {
   "cell_type": "code",
   "execution_count": null,
   "metadata": {},
   "outputs": [],
   "source": [
    "#Versione Facile\n",
    "\n",
    "def isAperta(p):\n",
    "    return p in [\"(\",\"[\",\"{\"]\n",
    "def siChiudeBene(l,r):\n",
    "    return (l==\"(\" and r==\")\") or (l==\"[\" and r==\"]\" ) or (l==\"{\" and r==\"}\" )\n",
    "def checkParentesiMulti(parentesi):\n",
    "    n=[]\n",
    "    for p in parentesi:\n",
    "        if isAperta(p):\n",
    "            n.append(p)\n",
    "        elif len(n)>0 and siChiudeBene(n.pop(),p): \n",
    "            continue\n",
    "        else:\n",
    "            return False\n",
    "    return len(n)==0\n"
   ]
  },
  {
   "cell_type": "code",
   "execution_count": null,
   "metadata": {},
   "outputs": [],
   "source": []
  },
  {
   "cell_type": "code",
   "execution_count": null,
   "metadata": {},
   "outputs": [],
   "source": [
    "#Versione Difficile\n",
    "def isAperta(p):\n",
    "    return p in [\"(\",\"[\",\"{\"]\n",
    "def siChiudeBene(p,q):\n",
    "    return (p,q) in [(\"(\",\")\"),(\"[\",\"]\"),(\"{\",\"}\")]\n",
    "def checkParentesiMultiOrdinate(parentesi):\n",
    "    n=[]\n",
    "    for p in parentesi:\n",
    "        if isAperta(p):\n",
    "            if(len(n)==0 or n[-1]>=p): #le parentesi sono ordinate!! \n",
    "                n.append(p)\n",
    "            else:\n",
    "                return False                    \n",
    "        elif len(n)>0 and siChiudeBene(n.pop(),p): \n",
    "            continue\n",
    "        else:\n",
    "            return False\n",
    "    return len(n)==0"
   ]
  },
  {
   "cell_type": "code",
   "execution_count": null,
   "metadata": {},
   "outputs": [],
   "source": [
    "checkParentesiMultiOrdinate('{[()]}')"
   ]
  },
  {
   "cell_type": "code",
   "execution_count": null,
   "metadata": {},
   "outputs": [],
   "source": [
    "for i in range(200):\n",
    "    print(chr(i),end=' ')"
   ]
  },
  {
   "cell_type": "markdown",
   "metadata": {},
   "source": [
    "### Soluzione Esercizio per casa (2)"
   ]
  },
  {
   "cell_type": "code",
   "execution_count": null,
   "metadata": {},
   "outputs": [],
   "source": [
    "frase='supercalifragilistichespiralidoso'\n",
    "\n",
    "lettere={}\n",
    "for p in frase:\n",
    "    if(p in lettere):\n",
    "        lettere[p]=lettere[p]+1\n",
    "    else:\n",
    "        lettere[p]=1\n",
    "print(lettere)"
   ]
  },
  {
   "cell_type": "code",
   "execution_count": null,
   "metadata": {},
   "outputs": [],
   "source": [
    "#Contare la frequenza delle lettere nella stringa sottostante \n",
    "#e ritornare un dizionario che associa ad ogni lettera quante volte è stata usata.\n",
    "#identificare poi la letter con frequenza maggiore e quella con frequenza minore. \n",
    "\n",
    "frase='supercalifragilistichespiralidoso'\n",
    "\n",
    "lettere={}\n",
    "for p in frase:\n",
    "    if(p in lettere):\n",
    "        lettere[p]=lettere[p]+1\n",
    "    else:\n",
    "        lettere[p]=1\n",
    "\n",
    "minValue=len(frase)+1\n",
    "maxValue=0\n",
    "minLettera=''\n",
    "maxLettera=''\n",
    "for e in lettere:\n",
    "    if(lettere[e]>maxValue):\n",
    "        maxValue=lettere[e]\n",
    "        maxLettera=e\n",
    "    if(lettere[e]<minValue):\n",
    "        minValue=lettere[e]\n",
    "        minLettera=e\n",
    "print('max: ',maxLettera)\n",
    "print('min: ',minLettera)\n",
    "\n",
    "#come potrei ottimizzare il codice?? "
   ]
  },
  {
   "cell_type": "markdown",
   "metadata": {},
   "source": [
    "### Esercizio per casa(3)"
   ]
  },
  {
   "cell_type": "code",
   "execution_count": null,
   "metadata": {},
   "outputs": [],
   "source": [
    "# anagrammi, utilizzando i dizionari creare una funzione che \n",
    "#torna True se due parola sono uno l'anagramma dell'altro, False atrimenti\n",
    "def checkAnagramma(parola1,parola2):\n",
    "    #init code here\n",
    "    if(len(parola1)!=len(parola2)):\n",
    "        return False\n",
    "    \n",
    "    dizionario={}\n",
    "    for lettera in parola1:\n",
    "        if lettera in dizionario.keys():\n",
    "            dizionario[lettera]=dizionario[lettera]+1\n",
    "        else:\n",
    "            dizionario[lettera]=1\n",
    "    for lettera in parola2:\n",
    "        if lettera in dizionario:\n",
    "            dizionario[lettera]=dizionario[lettera]-1\n",
    "        else:\n",
    "            return False\n",
    "    \n",
    "    for letter in dizionario:\n",
    "        if(dizionario[lettera]!=0):\n",
    "            return False\n",
    "    \n",
    "    return True\n",
    "        \n",
    "    #end code here"
   ]
  },
  {
   "cell_type": "code",
   "execution_count": null,
   "metadata": {},
   "outputs": [],
   "source": [
    "checkAnagramma('pippo','pppoi')"
   ]
  },
  {
   "cell_type": "markdown",
   "metadata": {},
   "source": [
    "\n",
    "#### Esercizio: Fizz Buzz (https://en.wikipedia.org/wiki/Fizz_buzz)\n",
    "Creare la funzione fizzBuzz(n) che prende in input un numero intero **n**, e ritorna la stringa:\n",
    "* 'fizz' se **n** è divisibile per 3\n",
    "* 'buzz' se **n** è divisibile per 5\n",
    "* 'fizz-buzz' se **n** è divisibile sia per 3 che per 5\n",
    "* '**n**' negli altri casi. "
   ]
  },
  {
   "cell_type": "code",
   "execution_count": null,
   "metadata": {},
   "outputs": [],
   "source": [
    "#Soluzione Classica\n",
    "def fizzBuzzStandard(n):\n",
    "    if(n%3==0 and n%5==0):\n",
    "        s='Fizz-Buzz'\n",
    "    elif(n%3==0):\n",
    "        s='Fizz'\n",
    "    elif(n%5==0):\n",
    "        s='Buzz'\n",
    "    else:\n",
    "        s=str(n)\n",
    "    return s"
   ]
  },
  {
   "cell_type": "code",
   "execution_count": null,
   "metadata": {},
   "outputs": [],
   "source": [
    "for i in range(1,34):\n",
    "    print('{}:{}'.format(i,fizzBuzzStandard(i)),end=' ')"
   ]
  },
  {
   "cell_type": "code",
   "execution_count": null,
   "metadata": {},
   "outputs": [],
   "source": [
    "#Soluzione Studente.\n",
    "def fizzBuzzStudent(n):\n",
    "    s=''\n",
    "    if(n%3==0):\n",
    "        s=s+' Fizz'\n",
    "    if(n%5==0):\n",
    "        s=s+'-Buzz'\n",
    "    if(s==''):\n",
    "        s=' '+str(n)\n",
    "    s=s[1:]\n",
    "    return s"
   ]
  },
  {
   "cell_type": "code",
   "execution_count": null,
   "metadata": {},
   "outputs": [],
   "source": [
    "for i in range(1,34):\n",
    "    print(fizzBuzz(i))"
   ]
  },
  {
   "cell_type": "markdown",
   "metadata": {},
   "source": [
    "### Set\n",
    "collezione non ordinata di oggetti unici e immutabili"
   ]
  },
  {
   "cell_type": "code",
   "execution_count": null,
   "metadata": {},
   "outputs": [],
   "source": [
    "#definizione\n",
    "a={'s','5'} #a=set('s','5')\n",
    "type(a)"
   ]
  },
  {
   "cell_type": "code",
   "execution_count": null,
   "metadata": {},
   "outputs": [],
   "source": [
    "a.add('pippo')\n",
    "print(a)"
   ]
  },
  {
   "cell_type": "code",
   "execution_count": null,
   "metadata": {},
   "outputs": [],
   "source": [
    "a.remove('pippo')\n",
    "print(a)"
   ]
  },
  {
   "cell_type": "code",
   "execution_count": null,
   "metadata": {},
   "outputs": [],
   "source": [
    "a = set('abracadabra')\n",
    "b = set('alacazam')\n",
    "type(a)\n",
    "print('a=',a)\n",
    "print('b=',b)"
   ]
  },
  {
   "cell_type": "code",
   "execution_count": null,
   "metadata": {},
   "outputs": [],
   "source": [
    "# differenza\n",
    "print ('a - b ', a - b)\n",
    "print ('b - a ', b - a)"
   ]
  },
  {
   "cell_type": "code",
   "execution_count": null,
   "metadata": {},
   "outputs": [],
   "source": [
    "#unione, or logico. \n",
    "print ('a | b ', a | b)"
   ]
  },
  {
   "cell_type": "code",
   "execution_count": null,
   "metadata": {},
   "outputs": [],
   "source": [
    "#intersezione, and logico. \n",
    "print ('a & b ', a & b)"
   ]
  },
  {
   "cell_type": "code",
   "execution_count": null,
   "metadata": {},
   "outputs": [],
   "source": [
    "#simmetric difference\n",
    "print('a^b      ' , a^b)\n",
    "print('a-b | b-a',a-b | b-a )\n",
    "print('a|b - a&b',(a|b)-(a&b) ) #occhio alle parentesi il - ha la precedenza su | and &."
   ]
  },
  {
   "cell_type": "code",
   "execution_count": null,
   "metadata": {},
   "outputs": [],
   "source": [
    "'a' in a #come nei diozionari controllare se un oggetto è nel set è molto economico.\n",
    "        #Costa 1 ed usa gli hash "
   ]
  },
  {
   "cell_type": "code",
   "execution_count": null,
   "metadata": {},
   "outputs": [],
   "source": []
  },
  {
   "cell_type": "markdown",
   "metadata": {},
   "source": [
    "### List comprehensions"
   ]
  },
  {
   "cell_type": "code",
   "execution_count": null,
   "metadata": {},
   "outputs": [],
   "source": [
    "# {2*n+1 | n è un naturale} = .... \n",
    "# {(x,y,z) | x**2+y**2=z**2 and x e y e z numeri naturali} == .... "
   ]
  },
  {
   "cell_type": "code",
   "execution_count": null,
   "metadata": {},
   "outputs": [],
   "source": [
    "dispari1 = [2*n+1 for n in range(20) ] #dipari da zero a quaranta\n",
    "print(dispari1)"
   ]
  },
  {
   "cell_type": "code",
   "execution_count": null,
   "metadata": {},
   "outputs": [],
   "source": [
    "dispari2 = [n for n in range(40) if n%2==1]\n",
    "print(dispari2)"
   ]
  },
  {
   "cell_type": "code",
   "execution_count": null,
   "metadata": {},
   "outputs": [],
   "source": [
    "dadi = [(x,y) for x in range(1,7) for y in  range(1,7)]\n",
    "print(dadi)\n",
    "\n",
    "[n for n in range(40) if n%2==1]"
   ]
  },
  {
   "cell_type": "markdown",
   "metadata": {},
   "source": [
    "### Esercizio insieme(1)\n",
    "list comprension:\n",
    "* trovare tutti i numeri da 1 a 1000 divisibili per 13\n",
    "* trovare tutti i numeri da 1 a 1000 che hanno un 7 nella scrittura\n",
    "* trovare tutti  le terne pitagoriche in [1,50]x[1,50]x[1,100]\n",
    "* trovare tutti  i numeri primi tra 0 e 50"
   ]
  },
  {
   "cell_type": "code",
   "execution_count": null,
   "metadata": {},
   "outputs": [],
   "source": [
    "divPer13=[ n for n in range(1000) if n%13==0]\n",
    "sette = [ n for n in range(1000) if '7' in str(n)]\n",
    "terne = [(a,b,c) for a in range(1,50) for b in range(1,50) for c in range(100) if a*a+b*b==c*c]\n"
   ]
  },
  {
   "cell_type": "code",
   "execution_count": null,
   "metadata": {},
   "outputs": [],
   "source": [
    "noprimes = [j for i in range(2, 8) for j in range(i*2, 50, i)]\n",
    "primes = [x for x in range(2, 50) if x not in noprimes]\n",
    "print(primes)"
   ]
  },
  {
   "cell_type": "markdown",
   "metadata": {},
   "source": [
    "### Lettura e scrittura su file"
   ]
  },
  {
   "cell_type": "raw",
   "metadata": {},
   "source": [
    "open(file, mode='r', buffering=-1, encoding=None, errors=None, newline=None, closefd=True, opener=None)"
   ]
  },
  {
   "cell_type": "markdown",
   "metadata": {},
   "source": [
    "creare un file dal sito : https://it.lipsum.com/feed/html"
   ]
  },
  {
   "cell_type": "code",
   "execution_count": null,
   "metadata": {},
   "outputs": [],
   "source": [
    "file = open('files/lorem.txt','r')"
   ]
  },
  {
   "cell_type": "code",
   "execution_count": null,
   "metadata": {},
   "outputs": [],
   "source": [
    "file"
   ]
  },
  {
   "cell_type": "code",
   "execution_count": null,
   "metadata": {},
   "outputs": [],
   "source": [
    "#dopo aver lavorato con uin file bisogna chiuderlo\n",
    "file.close()"
   ]
  },
  {
   "cell_type": "code",
   "execution_count": null,
   "metadata": {},
   "outputs": [],
   "source": [
    "file = open('files/lorem.txt')\n",
    "for line in file:\n",
    "    print(line.strip())\n",
    "file.close()"
   ]
  },
  {
   "cell_type": "code",
   "execution_count": null,
   "metadata": {},
   "outputs": [],
   "source": [
    "# per non dover ogni volta chiudere il file posso usare with:\n",
    "with open('files/lorem.txt') as file: \n",
    "    for line in file:\n",
    "        print(line.strip())\n",
    "file.closed #quando esco dallo \"blocco\" with il file viene chiuso automaticamente \n",
    "    "
   ]
  },
  {
   "cell_type": "code",
   "execution_count": null,
   "metadata": {},
   "outputs": [],
   "source": [
    "with open('files/lorem.txt') as file: \n",
    "    s=file.read()\n",
    "print(s)"
   ]
  },
  {
   "cell_type": "code",
   "execution_count": null,
   "metadata": {},
   "outputs": [],
   "source": [
    "type(s)"
   ]
  },
  {
   "cell_type": "code",
   "execution_count": null,
   "metadata": {},
   "outputs": [],
   "source": [
    "with open('files/lorem.txt') as file: \n",
    "    s=file.readlines()\n",
    "print(s)"
   ]
  },
  {
   "cell_type": "code",
   "execution_count": null,
   "metadata": {},
   "outputs": [],
   "source": [
    "type(s)"
   ]
  },
  {
   "cell_type": "markdown",
   "metadata": {},
   "source": [
    "### Esercizio insieme(2):\n",
    "creare un dizionario con chiavi le righe e valori il numero di parole nella riga del  'files/lorem.txt' ."
   ]
  },
  {
   "cell_type": "raw",
   "metadata": {},
   "source": [
    "with open('files/lorem.txt') as file: \n",
    "    s=file.readlines()\n",
    "{i:len(s[i].split()) for i in range(len(s))}"
   ]
  },
  {
   "cell_type": "raw",
   "metadata": {},
   "source": [
    "creare un dizionario con chiavi le righe e valori la lunghezza della parola più lunga in quella riga del  'files/lorem.txt' ."
   ]
  },
  {
   "cell_type": "code",
   "execution_count": null,
   "metadata": {},
   "outputs": [],
   "source": [
    "with open('files/lorem.txt') as file: \n",
    "    s=file.readlines()\n",
    "{i:max([len(x) for x in s[i].split()+['']]) for i in range(len(s))}"
   ]
  }
 ],
 "metadata": {
  "kernelspec": {
   "display_name": "Python 3",
   "language": "python",
   "name": "python3"
  },
  "language_info": {
   "codemirror_mode": {
    "name": "ipython",
    "version": 3
   },
   "file_extension": ".py",
   "mimetype": "text/x-python",
   "name": "python",
   "nbconvert_exporter": "python",
   "pygments_lexer": "ipython3",
   "version": "3.6.2"
  }
 },
 "nbformat": 4,
 "nbformat_minor": 2
}
