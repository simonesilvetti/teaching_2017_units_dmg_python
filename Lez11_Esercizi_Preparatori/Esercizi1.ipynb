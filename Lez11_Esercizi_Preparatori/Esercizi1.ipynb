{
 "cells": [
  {
   "cell_type": "markdown",
   "metadata": {},
   "source": [
    "### Esercizi preparatori esame"
   ]
  },
  {
   "cell_type": "markdown",
   "metadata": {},
   "source": [
    "**1** - creare un dizionario che abbia come chiavi : titolo, autore, numero di pagine e casa editrice di un libro. Prendere i libri: il libro della giungla e l'isola del tesoro e salvarli come dizionari. "
   ]
  },
  {
   "cell_type": "code",
   "execution_count": 1,
   "metadata": {},
   "outputs": [],
   "source": [
    "libro1 = {'titolo':'Il libro della giungla', 'autore':'\tRudyard Kipling', 'pagine':196, 'casa editrice':'feltrinelli'}\n",
    "libro2 = {'titolo':'L\\'isola dl tesoro', 'autore':'\tRobert Louis Stevenson', 'pagine':287, 'casa editrice':'feltrinelli'}\n"
   ]
  },
  {
   "cell_type": "markdown",
   "metadata": {},
   "source": [
    "**2** - Salvare i due libri delle esercizio precedente (come dizionari) in un lista, e definire una funzione che prenda in input la lista in questione e  stampi i titoli di tutti i libri salvati al suo interno.  "
   ]
  },
  {
   "cell_type": "code",
   "execution_count": 7,
   "metadata": {},
   "outputs": [
    {
     "name": "stdout",
     "output_type": "stream",
     "text": [
      "Il libro della giungla\n",
      "L'isola dl tesoro\n",
      "Il libro della giungla\n",
      "L'isola dl tesoro\n"
     ]
    }
   ],
   "source": [
    "libri = [libro1,libro2]\n",
    "def stampa(lista_libri):\n",
    "    for libro in lista_libri:\n",
    "        print(libro['titolo'])\n",
    "stampa(libri)     \n",
    "def stampa_LC_join(lista_libri):\n",
    "    print('\\n'.join([libro['titolo'] for libro in lista_libri]))\n",
    "stampa_LC_join(libri)"
   ]
  },
  {
   "cell_type": "markdown",
   "metadata": {},
   "source": [
    "**3** - Definire una lista contenente tutti i numeri multipli di 3 (ma non multipli  di 4)  da 1 a 120. "
   ]
  },
  {
   "cell_type": "code",
   "execution_count": 84,
   "metadata": {},
   "outputs": [
    {
     "data": {
      "text/plain": [
       "[3,\n",
       " 6,\n",
       " 9,\n",
       " 15,\n",
       " 18,\n",
       " 21,\n",
       " 27,\n",
       " 30,\n",
       " 33,\n",
       " 39,\n",
       " 42,\n",
       " 45,\n",
       " 51,\n",
       " 54,\n",
       " 57,\n",
       " 63,\n",
       " 66,\n",
       " 69,\n",
       " 75,\n",
       " 78,\n",
       " 81,\n",
       " 87,\n",
       " 90,\n",
       " 93,\n",
       " 99,\n",
       " 102,\n",
       " 105,\n",
       " 111,\n",
       " 114,\n",
       " 117]"
      ]
     },
     "execution_count": 84,
     "metadata": {},
     "output_type": "execute_result"
    }
   ],
   "source": [
    "list(filter(lambda x: x%3==0 and not x%4==0, [i for i in range(1,120)]))"
   ]
  },
  {
   "cell_type": "code",
   "execution_count": 11,
   "metadata": {},
   "outputs": [
    {
     "name": "stdout",
     "output_type": "stream",
     "text": [
      "[3, 6, 9, 15, 18, 21, 27, 30, 33, 39, 42, 45, 51, 54, 57, 63, 66, 69, 75, 78, 81, 87, 90, 93, 99, 102, 105, 111, 114, 117]\n"
     ]
    }
   ],
   "source": [
    "lista = [x for x in range(1,120) if x%3==0 and x%4!=0]\n",
    "print(lista)"
   ]
  },
  {
   "cell_type": "markdown",
   "metadata": {},
   "source": [
    "**4** - Definire una procedura che prenda in input dall' utente una password  che contenga almeno una lettera maiuscola, due cifre e 1 segno speciale tra i seguenti: ,/()&%$£ . Se l'utente non inserisce una password idonea la procedura continua a chiedere l'inserimento di una nuova password per un massimo di 5 volte."
   ]
  },
  {
   "cell_type": "code",
   "execution_count": 3,
   "metadata": {},
   "outputs": [
    {
     "name": "stdout",
     "output_type": "stream",
     "text": [
      "inserisci password: 12,R\n",
      "Password Corretta\n"
     ]
    }
   ],
   "source": [
    "maiuscole = 'QWERTYUIOPASDFGHJKLZXCVBNM'\n",
    "cifre = '123456789'\n",
    "special = ',/()&%$£'\n",
    "def passwordIdonea(password):\n",
    "    maiuscoleCounter = 0 \n",
    "    cifreCounter = 0 \n",
    "    specialCounter=0\n",
    "    for s in password: \n",
    "        if s in maiuscole:\n",
    "            maiuscoleCounter=maiuscoleCounter+1\n",
    "        elif s in cifre:\n",
    "            cifreCounter = cifreCounter +1\n",
    "        elif s in special:\n",
    "            specialCounter=specialCounter+1\n",
    "    return specialCounter>=1 and maiuscoleCounter>=1 and cifreCounter>=2\n",
    "\n",
    "counter=0;\n",
    "while(counter<=5):\n",
    "    password = input('inserisci password: ')\n",
    "    if (passwordIdonea(password)):\n",
    "        print('Password Idonea')\n",
    "        counter =5\n",
    "    counter=counter+1\n"
   ]
  },
  {
   "cell_type": "code",
   "execution_count": 98,
   "metadata": {},
   "outputs": [
    {
     "name": "stdout",
     "output_type": "stream",
     "text": [
      "inserisci password: a\n",
      "inserisci password: a\n",
      "inserisci password: a\n",
      "inserisci password: a\n",
      "inserisci password: a\n"
     ]
    }
   ],
   "source": [
    "maiuscole = 'QWERTYUIOPASDFGHJKLZXCVBNM'\n",
    "cifre = '123456789'\n",
    "special = ',/()&%$£'\n",
    "def counter(password,lista,N):\n",
    "    counter = 0;\n",
    "    for lettera in password:\n",
    "        if(lettera in lista):\n",
    "            counter =counter +1;\n",
    "        if (counter==N):\n",
    "            return True\n",
    "    return False\n",
    "\n",
    "def check(password):\n",
    "    return counter(password,maiuscole,1) and counter(password,cifre,2) and counter(password,special,1)\n",
    "\n",
    "k =0\n",
    "while(k<5):\n",
    "    password = input('inserisci password: ')\n",
    "    if (check(password)):\n",
    "        print('Password Idonea')\n",
    "        break\n",
    "    k=k+1\n",
    "        \n",
    "        "
   ]
  },
  {
   "cell_type": "markdown",
   "metadata": {},
   "source": [
    "**5** Scaricate da  https://archive.ics.uci.edu/ml/machine-learning-databases/iris/ il file iris.data\n",
    "\n",
    "Al suo interno troverete delle misurazioni fatte su 3 tipologie di fiori, nello specifico ogni colonna corrisponde a :  \n",
    "1. sepal length in cm\n",
    "2. sepal width in cm\n",
    "3. petal length in cm\n",
    "4. petal width in cm\n",
    "5. class: \n",
    "   -- Iris Setosa\n",
    "   -- Iris Versicolour\n",
    "   -- Iris Virginica\n",
    "   \n",
    "Per ogni tipologia di fiore (quinta colonna) dovete calcolare la media e varianza delle caratteristiche fisiche (prime 4 colonne).\n",
    "      "
   ]
  },
  {
   "cell_type": "code",
   "execution_count": 82,
   "metadata": {},
   "outputs": [
    {
     "data": {
      "text/plain": [
       "0.39625599999999994"
      ]
     },
     "execution_count": 82,
     "metadata": {},
     "output_type": "execute_result"
    }
   ],
   "source": [
    "import csv\n",
    "data_setosa=[];\n",
    "data_versiolar=[];\n",
    "data_virginica=[];\n",
    "with open('file/iris.data', 'r') as csvfile:\n",
    "    reader = csv.reader(csvfile,delimiter=',')\n",
    "    for row in reader:\n",
    "        if(row[4]=='Iris-setosa'):\n",
    "            data_setosa.append(row[:3])\n",
    "        elif(row[4]=='Iris-versicolor'):\n",
    "            data_versiolar.append(row[:3])\n",
    "        else:\n",
    "            data_virginica.append(row[:3])\n",
    "\n",
    "def mean(matrix,index):\n",
    "    return sum([float(row[index]) for row in matrix])/len(matrix)\n",
    "\n",
    "def variance(matrix,index):\n",
    "    m = mean(matrix,index)\n",
    "    return sum([(float(row[index])-m)**2 for row in matrix])/len(matrix)\n",
    "\n",
    "variance(data_virginica,0)\n"
   ]
  },
  {
   "cell_type": "markdown",
   "metadata": {},
   "source": [
    "**6** -  Importate numpy e definite come lambda expression la funzione f che rappresenta sin(x). Definite poi una procedura (algoritmo di bisezione https://it.wikipedia.org/wiki/Metodo_della_bisezione) che determini la soluzione di sin(x)-0.234=0 in [0,pi/2], con un intertezza di al massimo epsilon (passato come argomento). "
   ]
  },
  {
   "cell_type": "code",
   "execution_count": 81,
   "metadata": {},
   "outputs": [
    {
     "name": "stdout",
     "output_type": "stream",
     "text": [
      "X= 0.2361903475331634\n"
     ]
    }
   ],
   "source": [
    "import numpy as np \n",
    "epsilon = 0.000001\n",
    "f = lambda x : np.sin(x)-0.234\n",
    "errore = 1\n",
    "a=0\n",
    "b=np.pi\n",
    "while (errore>epsilon):\n",
    "    c = (a+b)/2\n",
    "    if (f(a)*f(c)>0):\n",
    "        a,b = c,b\n",
    "    else:\n",
    "        a,b=a,c\n",
    "    errore = b-a\n",
    "print('X=',c)"
   ]
  },
  {
   "cell_type": "markdown",
   "metadata": {},
   "source": [
    "**7** - definire una funzione che prende in input una tupla rappresentante un punto nel piano cartesiano e  restituisca in output una tupla con il numero del quadrante dove si trova il punto e la distanza dall' origine.  \n",
    "Se il punto trova sugli assi la funzione resituitsce quadrante 0 e la distanza dal centro."
   ]
  },
  {
   "cell_type": "code",
   "execution_count": 8,
   "metadata": {},
   "outputs": [
    {
     "data": {
      "text/plain": [
       "(0, 0.0)"
      ]
     },
     "execution_count": 8,
     "metadata": {},
     "output_type": "execute_result"
    }
   ],
   "source": [
    "import numpy as np\n",
    "def funzione(punto):\n",
    "    quadrante = 0;\n",
    "    if (punto[0]>0):\n",
    "        if (punto[1]>0):\n",
    "            quadrante = 1\n",
    "        elif(punto[1]<0):\n",
    "            quadrante = 4\n",
    "    elif(punto[0]<0):\n",
    "        if (punto[1]>0):\n",
    "            quadrante = 2\n",
    "        elif(punto[1]<0):\n",
    "            quadrante = 3\n",
    "    return (quadrante,np.sqrt(punto[0]^2+punto[1]^2))\n",
    "funzione((0,0)) "
   ]
  },
  {
   "cell_type": "markdown",
   "metadata": {},
   "source": [
    "**8** - definire una funzione che prenda in input una lista di tuple rappresentante i punti del piano cartesiano e riordini la lista in funzione della loro distanza dal centro. "
   ]
  },
  {
   "cell_type": "markdown",
   "metadata": {},
   "source": [
    "**9** - definire una funzione che prenda in input una lista di interi e un numero N,  e ritorna true se esiste una coppia di numeri che ha per somma N. Per esempio lista = [1,4,3,2,5,], N = 5, la funzione ritorna true perchè 1+4 = 5. Se N = 15 la funzione ritorna false. "
   ]
  },
  {
   "cell_type": "code",
   "execution_count": 80,
   "metadata": {},
   "outputs": [
    {
     "data": {
      "text/plain": [
       "False"
      ]
     },
     "execution_count": 80,
     "metadata": {},
     "output_type": "execute_result"
    }
   ],
   "source": [
    "def check(lista,N):\n",
    "    for i in range(len(lista)):\n",
    "        for j in range(i):\n",
    "            if lista[i]+lista[j]==N:\n",
    "                return True\n",
    "    return False\n",
    "\n",
    "check([1,4,3,2,5],10)"
   ]
  },
  {
   "cell_type": "markdown",
   "metadata": {},
   "source": [
    "**10** - Definire una funzione che prende in input un file di testo, contente in ogni riga una sola parola e che restituisca come output una lista con la parola più frequente e la meno frequente. In caso di parità la funzione deve restituire la prima parola più frequente e meno frequente. \n",
    "\n",
    "Esempio: \n",
    "\n",
    "* piovra \n",
    "* casa \n",
    "* pippo \n",
    "* casa \n",
    "* pippo \n",
    "* lucertola \n",
    "* stupido\n",
    "\n",
    "La funzione resitutisce ['casa', piovra]"
   ]
  },
  {
   "cell_type": "code",
   "execution_count": 35,
   "metadata": {},
   "outputs": [
    {
     "name": "stdout",
     "output_type": "stream",
     "text": [
      "{'piovra': 1, 'casa': 2, 'pippo': 2, 'lucertola': 1, 'stupido': 1}\n",
      "piovra casa\n"
     ]
    }
   ],
   "source": [
    "with open('file/testo.txt') as file: \n",
    "    s=file.readlines()\n",
    "parole = [e.strip() for e in s]\n",
    "dizionario = {}\n",
    "for parola in parole:\n",
    "    if (parola not in dizionario):\n",
    "        dizionario[parola]=1\n",
    "    else:\n",
    "        dizionario[parola]=dizionario[parola]+1\n",
    "print(dizionario)\n",
    "\n",
    "minValue = len(parole)+1\n",
    "maxValue = 0\n",
    "minKey=''\n",
    "maxKey=''\n",
    "\n",
    "for key,value in dizionario.items():\n",
    "    if(minValue > value):\n",
    "        minValue=value\n",
    "        minKey = key\n",
    "    if (maxValue < value):\n",
    "        maxValue=value\n",
    "        maxKey = key\n",
    "print(minKey,maxKey)\n",
    "        \n",
    "            \n",
    "\n"
   ]
  },
  {
   "cell_type": "markdown",
   "metadata": {},
   "source": [
    "**11** - Scrivere una funzione che prende in ingresso una stringa e restituisce una lista con in posizione 0 una nuova stringa con 1 al posto delle vocali e 0 al posto delle consonanti e in posizione 1 la trasformazione del numero binario in decimale. \n",
    "\n",
    "Esempio:[01001,9] = function ( 'pippo')"
   ]
  },
  {
   "cell_type": "code",
   "execution_count": 19,
   "metadata": {},
   "outputs": [
    {
     "data": {
      "text/plain": [
       "('01001', 9)"
      ]
     },
     "execution_count": 19,
     "metadata": {},
     "output_type": "execute_result"
    }
   ],
   "source": [
    "vocali = 'aeiouAEIOU'\n",
    "def function(parola):\n",
    "    transformed='';\n",
    "    for l in parola:\n",
    "        if(l in vocali):\n",
    "            transformed = transformed + '1'\n",
    "        elif  l.isalpha():\n",
    "            transformed = transformed + '0'\n",
    "    value = 0\n",
    "    for i in range(len(transformed)):\n",
    "        value = value + int(transformed[-(i+1)])* 2**i\n",
    "    return (transformed,value) \n",
    "\n",
    "function('pippo')"
   ]
  }
 ],
 "metadata": {
  "kernelspec": {
   "display_name": "Python 3",
   "language": "python",
   "name": "python3"
  },
  "language_info": {
   "codemirror_mode": {
    "name": "ipython",
    "version": 3
   },
   "file_extension": ".py",
   "mimetype": "text/x-python",
   "name": "python",
   "nbconvert_exporter": "python",
   "pygments_lexer": "ipython3",
   "version": "3.6.2"
  }
 },
 "nbformat": 4,
 "nbformat_minor": 2
}
