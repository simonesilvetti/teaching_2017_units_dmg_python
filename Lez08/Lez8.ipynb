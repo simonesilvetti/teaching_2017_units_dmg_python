{
 "cells": [
  {
   "cell_type": "markdown",
   "metadata": {},
   "source": [
    "### Lezione precedente"
   ]
  },
  {
   "cell_type": "markdown",
   "metadata": {},
   "source": [
    "* Sets\n",
    "* List Comprehensions \n",
    "* Lettura da file"
   ]
  },
  {
   "cell_type": "markdown",
   "metadata": {},
   "source": [
    "#### Comunicazione: \n",
    "* lascio nel notebook anche la parte su numpy... che verrà poi ripresa da Laura il 30 Maggio. \n",
    "* usciranno nei prossimi giorni dei notebooks di ripasso con tutti i comandi che abbiamo fatto."
   ]
  },
  {
   "cell_type": "markdown",
   "metadata": {},
   "source": [
    "### Fizz-Buzz (col trattino! =)"
   ]
  },
  {
   "cell_type": "code",
   "execution_count": null,
   "metadata": {},
   "outputs": [],
   "source": [
    "#Soluzione Classica\n",
    "def fizzBuzzStandard(n):\n",
    "    if(n%3==0 and n%5==0):  #controllo le il numero è divisibile sia per 3 che per 5\n",
    "        s='Fizz-Buzz'\n",
    "    elif(n%3==0):\n",
    "        s='Fizz'\n",
    "    elif(n%5==0):\n",
    "        s='Buzz'\n",
    "    else:\n",
    "        s=str(n)\n",
    "    return s"
   ]
  },
  {
   "cell_type": "code",
   "execution_count": null,
   "metadata": {},
   "outputs": [],
   "source": [
    "print([fizzBuzzStandard(n) for n in range(1,50)]) #uso la list comprehension per creare una lista e poi la stampo..."
   ]
  },
  {
   "cell_type": "code",
   "execution_count": null,
   "metadata": {},
   "outputs": [],
   "source": [
    "#Soluzione di Gulio.\n",
    "def fizzBuzzGiulio(n):\n",
    "    s=''\n",
    "    if(n%3==0):\n",
    "        s=s+' Fizz'\n",
    "    if(n%5==0):\n",
    "        s=s+'-Buzz'\n",
    "    if(s==''):\n",
    "        s=' '+str(n)\n",
    "    s=s[1:]\n",
    "    return s"
   ]
  },
  {
   "cell_type": "code",
   "execution_count": null,
   "metadata": {},
   "outputs": [],
   "source": [
    "print([fizzBuzzGiulio(n) for n in range(1,50)])"
   ]
  },
  {
   "cell_type": "markdown",
   "metadata": {},
   "source": [
    "###  Scrittura su file"
   ]
  },
  {
   "cell_type": "code",
   "execution_count": null,
   "metadata": {},
   "outputs": [],
   "source": [
    "with open(\"files/example.txt\", \"w\") as file: #file è una variabile che si riferisce al file testuale (examples.txt) che ho creato \n",
    "    file.write(\"ciao\\ncome va?\\n\")           # nella cartella files in modalità di lettura (\"w\") "
   ]
  },
  {
   "cell_type": "code",
   "execution_count": null,
   "metadata": {},
   "outputs": [],
   "source": [
    "with open('files/example.txt') as file: \n",
    "    s=file.read()\n",
    "print(s)"
   ]
  },
  {
   "cell_type": "code",
   "execution_count": null,
   "metadata": {},
   "outputs": [],
   "source": [
    "with open(\"files/example.txt\", \"a\")as file:\n",
    "    file.write(\"ciao\\ncome va?\\n\")"
   ]
  },
  {
   "cell_type": "code",
   "execution_count": null,
   "metadata": {},
   "outputs": [],
   "source": [
    "with open('files/example.txt') as file: \n",
    "    s=file.read()\n",
    "print(s)"
   ]
  },
  {
   "cell_type": "markdown",
   "metadata": {},
   "source": [
    "### Esercizio insieme (1):"
   ]
  },
  {
   "cell_type": "code",
   "execution_count": null,
   "metadata": {},
   "outputs": [],
   "source": [
    "# creare un file (studenti.csv) fatto così: \n",
    "#iscr_matricola;iscr_cognome;iscr_nome;email\n",
    "\n",
    "#numero di 7 cifre; \n",
    "#nome di 7 lettere; \n",
    "#cognome randomico di 6 lettere; \n",
    "#email(matricola@stud.units.it)\n",
    "\n",
    "#0:creo delle funzioni che generano un numero di 7 cifre, \n",
    "#un nome randomico di 7 lettere\n",
    "#  , un cognome randomico di 6 lettere \n",
    "#e le email. \n",
    "#1: Apro un nuovo file in scrittura\n",
    "#2: scrivo la prima riga -> iscr_matricola;iscr_cognome;iscr_nome; email(matricola@stud.units.it)\n",
    "#3: scrivo un listato di 68 possibili studenti.\n",
    "\n",
    "import random\n",
    "\n",
    "def numeroRandomdiCifre(n):\n",
    "    s=''\n",
    "    for i in range(n):\n",
    "        s=s+str(random.randint(1,9))\n",
    "    return s\n",
    "\n",
    "letters='abcdefghijklmnopqrstuvwxyzABCDEFGHIJKLMNOPQRSTUVWXYZ'\n",
    "#letters = [chr(n) for n in list(range(ord('A'),ord('Z')+1))+list(range(ord('a'),ord('z')+1)) ]\n",
    "def numeroRandomdiLettere(n):\n",
    "    s=''\n",
    "    for i in range(n):\n",
    "        s=s+str(random.choice(letters)) #random.choiche([lista,stringa,..]), seleziona un elemento casuale.\n",
    "    return s\n",
    "\n",
    "def creaMail(matricola):\n",
    "    return str(matricola)+'@stud.units.it'\n",
    "\n",
    "with open(\"files/studenti.txt\", \"w\")as fh:\n",
    "    fh.write('matricola;cognome;nome;email\\n')\n",
    "    for i in range(68):\n",
    "        matricola=numeroRandomdiCifre(7)\n",
    "        fh.write(matricola+';'+numeroRandomdiLettere(6)+';'+numeroRandomdiLettere(7)+';'+creaMail(matricola)+'\\n')"
   ]
  },
  {
   "cell_type": "markdown",
   "metadata": {},
   "source": [
    "### Lettura file CSV (Comma Separated Value)"
   ]
  },
  {
   "cell_type": "code",
   "execution_count": null,
   "metadata": {},
   "outputs": [],
   "source": [
    "import csv  #import il module csv. \n",
    "nomi_cognomi=[]\n",
    "email1=[]\n",
    "with open('files/studenti.txt', 'r') as csvfile:\n",
    "    reader = csv.reader(csvfile,delimiter=';')\n",
    "    for row in reader:\n",
    "        nomi_cognomi.append((row[1],row[2]))\n",
    "del(nomi_cognomi[0])\n",
    "print(nomi_cognomi)"
   ]
  },
  {
   "cell_type": "code",
   "execution_count": null,
   "metadata": {},
   "outputs": [],
   "source": [
    "#iscr_matricola;iscr_cognome;iscr_nome;email(matricola@stud.units.it)\n",
    "import csv\n",
    "nomi_cognomi=[]\n",
    "email1=[]\n",
    "with open('files/studenti.txt', 'r') as csvfile:\n",
    "    reader = csv.reader(csvfile,delimiter=';')\n",
    "    for row in reader:\n",
    "        nomi_cognomi.append((row[1],row[2]))\n",
    "del(nomi_cognomi[0])\n",
    "print(nomi_cognomi)"
   ]
  },
  {
   "cell_type": "markdown",
   "metadata": {},
   "source": [
    "### Esercizio casa (1): Utilizzando la list Comprehension derivare una lista contente le emails."
   ]
  },
  {
   "cell_type": "code",
   "execution_count": null,
   "metadata": {
    "scrolled": true
   },
   "outputs": [],
   "source": [
    "#la soluzione è simile a come abbiamo derivato nomi_cognomi solo che dobbiamo usale la LC.\n",
    "#salvate le email un una lista chiamata Emails"
   ]
  },
  {
   "cell_type": "markdown",
   "metadata": {},
   "source": [
    "### Join : concatenazione multipla\n"
   ]
  },
  {
   "cell_type": "code",
   "execution_count": null,
   "metadata": {},
   "outputs": [],
   "source": [
    "','.join(['1','2','3']) # produce la stringa '1,2,3'"
   ]
  },
  {
   "cell_type": "code",
   "execution_count": null,
   "metadata": {},
   "outputs": [],
   "source": [
    "#provate a derivare un stringa di emails, intervallate da una virgola utilizzando il comando join... \n",
    "# del tipo email1,email2,email3,...\n",
    "\n"
   ]
  },
  {
   "cell_type": "markdown",
   "metadata": {},
   "source": [
    "### Esercizio casa (2)\n",
    "prendere la lista di tuple \"nomi_cognomi\" e determinare la lista dei nomi   "
   ]
  },
  {
   "cell_type": "code",
   "execution_count": null,
   "metadata": {},
   "outputs": [],
   "source": []
  },
  {
   "cell_type": "markdown",
   "metadata": {},
   "source": [
    "### Esercizio casa (3)\n",
    "prendere la lista di tuple \"nomi_cognomi\" e determinare la lista contenete le stringhe\n",
    "\"Lo studente {nome} {cognome} ha la mail: {mail}, per esempio lo studente GfrdfG dsfre ha la mail: 123234@stud.units.it"
   ]
  },
  {
   "cell_type": "code",
   "execution_count": null,
   "metadata": {},
   "outputs": [],
   "source": [
    "#suggerimento dobbiamo determinare una lista .... quindi penso subito alla LC... , devo scrivere alcune cose \n",
    "#dentro altre stringhe in posti en precisi... quindi mi viene in mente strong.format"
   ]
  },
  {
   "cell_type": "code",
   "execution_count": null,
   "metadata": {},
   "outputs": [],
   "source": [
    "#cosa fa questo codice\n",
    "import random\n",
    "nomi_cognomi=nomi_cognomi[1:]\n",
    "def cosaFa(nomi_cognomi):\n",
    "    return [nomi_cognomi.pop(random.randint(0,len(nomi_cognomi)-1)) for i in range(len(nomi_cognomi))] \n",
    "\n",
    "nomi_cognomi = cosaFa(nomi_cognomi)\n",
    "print(nomi_cognomi)"
   ]
  },
  {
   "cell_type": "code",
   "execution_count": null,
   "metadata": {},
   "outputs": [],
   "source": []
  },
  {
   "cell_type": "code",
   "execution_count": null,
   "metadata": {},
   "outputs": [],
   "source": [
    "#lo shuffle esiste nel pacchetto random!!! \n",
    "import csv\n",
    "import random\n",
    "with open('files/studenti.txt', 'r') as csvfile:\n",
    "    reader = csv.reader(csvfile,delimiter=';')\n",
    "    nomi_cognomi=[(row[1],row[2]) for row in reader][1:]\n",
    "    \n",
    "import random\n",
    "shuffled_nomi_cognomi = random.shuffle(nomi_cognomi)\n",
    "print(shuffled_nomi_cognomi)"
   ]
  },
  {
   "cell_type": "markdown",
   "metadata": {},
   "source": [
    "### Esercizio svolto:\n",
    "\n",
    "Crea una funzione \"listaSenzaDoppioni(file)\" che prende in ingresso una file e crea una lista ordinata di parole distinte\n"
   ]
  },
  {
   "cell_type": "code",
   "execution_count": null,
   "metadata": {},
   "outputs": [],
   "source": [
    "def listaSenzaDoppioni(file):\n",
    "    with open(file) as f:\n",
    "        s=f.read()\n",
    "    sv=s.split()\n",
    "    risposta=[]\n",
    "    for c in sv:\n",
    "        if c not in risposta:\n",
    "            risposta.append(c)\n",
    "    risposta.sort()\n",
    "    return risposta"
   ]
  },
  {
   "cell_type": "code",
   "execution_count": null,
   "metadata": {},
   "outputs": [],
   "source": [
    "def listaSenzaDoppioniHero(file):\n",
    "    with open(file) as f:\n",
    "        s=f.read();\n",
    "    sv=s.split()\n",
    "    risposta=list(set(sv))\n",
    "    risposta.sort()\n",
    "    return risposta"
   ]
  },
  {
   "cell_type": "code",
   "execution_count": null,
   "metadata": {},
   "outputs": [],
   "source": [
    "listaSenzaDoppioniHero('files/lorem.txt')"
   ]
  },
  {
   "cell_type": "markdown",
   "metadata": {},
   "source": [
    "### Lambda Expression"
   ]
  },
  {
   "cell_type": "code",
   "execution_count": null,
   "metadata": {},
   "outputs": [],
   "source": [
    "#funzioni anonime\n",
    "f = lambda x : x+1 ## f: x -> x+1\n",
    "g = lambda x:x**2 ## g: x -> x*x\n",
    "ma = lambda x,y:max(x,y) \n",
    "div = lambda x,y: y%x==0\n",
    "comp = lambda f,g:lambda x: f(g(x))  ##comp: (f:B ->C)x(g:A ->B) -> (f*g:A -> C)\n"
   ]
  },
  {
   "cell_type": "code",
   "execution_count": null,
   "metadata": {},
   "outputs": [],
   "source": [
    "#esercizio determinare la lambda expression che restituisce il massimo tra due valori. \n",
    "massimo = lambda x,y: x if x>y else y"
   ]
  },
  {
   "cell_type": "code",
   "execution_count": null,
   "metadata": {},
   "outputs": [],
   "source": [
    "massimo(2,3)"
   ]
  },
  {
   "cell_type": "markdown",
   "metadata": {},
   "source": [
    "### map , filter e reduce\n"
   ]
  },
  {
   "cell_type": "code",
   "execution_count": null,
   "metadata": {},
   "outputs": [],
   "source": [
    "#map (f, [1,2,3,4]) applica f a ogni elemento della lista e genera una nuova lista [f(1),f(2),f(3),f(4)]\n",
    "list(map(lambda x: x+1,[1,2,3,4]))"
   ]
  },
  {
   "cell_type": "code",
   "execution_count": null,
   "metadata": {},
   "outputs": [],
   "source": [
    "#filter(f,list) filtra gli elementi che soddisfano il predicato f.\n",
    "list(filter(lambda x: x>2,[1,2,3,4]))"
   ]
  },
  {
   "cell_type": "code",
   "execution_count": null,
   "metadata": {},
   "outputs": [],
   "source": [
    "#reduce si trova in un pacchetto specifico. \n",
    "from functools import reduce # con questa lista stiamo dicendo dal package functools prendi la funzione reduce\n",
    "product = reduce((lambda x, y: x * y), [1, 2, 3, 4])\n",
    "print(product)"
   ]
  },
  {
   "cell_type": "code",
   "execution_count": null,
   "metadata": {},
   "outputs": [],
   "source": [
    "# in alternativa potevamo scrivere così... \n",
    "import functools #importo tutto il pacchetto... ma se voglio poi richiamare reduce devo scrivere functools.reduce, come quando usuamo il randint dentro il package random!! \n",
    "product = functools.reduce((lambda x, y: x * y), [1, 2, 3, 4])\n",
    "print(product)"
   ]
  },
  {
   "cell_type": "markdown",
   "metadata": {},
   "source": [
    "###  Esercizio insieme "
   ]
  },
  {
   "cell_type": "code",
   "execution_count": null,
   "metadata": {},
   "outputs": [],
   "source": [
    "# utilizziamo reduce per determinare il massimo di un vettore\n",
    "import random\n",
    "from functools import reduce\n",
    "massimo = lambda x,y: x if x>y else y\n",
    "reduce(massimo, [1, 56, 3, 4])\n",
    "#code here "
   ]
  },
  {
   "cell_type": "markdown",
   "metadata": {},
   "source": [
    "### Crivello di Eratostene"
   ]
  },
  {
   "cell_type": "markdown",
   "metadata": {},
   "source": [
    "<img src=\"fig/crivello.gif\" width=\"400\">"
   ]
  },
  {
   "cell_type": "code",
   "execution_count": null,
   "metadata": {},
   "outputs": [],
   "source": [
    "multiplo_2 = {i for i in range(2*2,100,2)}\n",
    "multiplo_3 = {i for i in range(3*2,100,3)}\n",
    "multiplo = lambda x : {i for i in range(x*2,100,x)}\n",
    "no_primi = {a for i in range(2,10) for a in multiplo(i)}\n",
    "primi = set(range(2,100))-no_primi\n",
    "print(primi)"
   ]
  },
  {
   "cell_type": "markdown",
   "metadata": {},
   "source": [
    "### Esercizio a casa: Algoritmo di Euclide MCD"
   ]
  },
  {
   "cell_type": "raw",
   "metadata": {},
   "source": [
    "a    b  \n",
    "20 = 8*2 +4\n",
    "8 = 4*2 + 0\n",
    "4 = 0 + ..."
   ]
  },
  {
   "cell_type": "code",
   "execution_count": null,
   "metadata": {},
   "outputs": [],
   "source": [
    "#code here"
   ]
  },
  {
   "cell_type": "markdown",
   "metadata": {},
   "source": [
    "### Esercizio insieme(6): matrice"
   ]
  },
  {
   "cell_type": "code",
   "execution_count": null,
   "metadata": {},
   "outputs": [],
   "source": [
    "#definire la lista [[1,2,3,..,n],[2*1,2*2,...,2*n],...,[n*1,n*2,n*n]]\n",
    "def matrice(n):\n",
    "    return [[j*i for i in range(1,n)] for j in range(1,n)]\n",
    "print(matrice(10))\n",
    "\n"
   ]
  },
  {
   "cell_type": "markdown",
   "metadata": {},
   "source": [
    "### Numpy "
   ]
  },
  {
   "cell_type": "markdown",
   "metadata": {},
   "source": [
    "### NumPy\n",
    "\n",
    "**NumPy** is the fundamental package for scientific computing with Python. It contains among other things:\n",
    "\n",
    "* a powerful N-dimensional array object\n",
    "* sophisticated (broadcasting) functions\n",
    "* tools for integrating C/C++ and Fortran code\n",
    "* useful linear algebra, Fourier transform, and random number capabilities\n",
    "\n",
    "Besides its obvious scientific uses, **NumPy** can also be used as an efficient multi-dimensional container of generic data. Arbitrary data-types can be defined. This allows **NumPy** to seamlessly and speedily integrate with a wide variety of databases.\n",
    "\n",
    "NumPy is licensed under the BSD license, enabling reuse with few restrictions."
   ]
  },
  {
   "cell_type": "code",
   "execution_count": null,
   "metadata": {},
   "outputs": [],
   "source": [
    "#generiamo un array\n",
    "import numpy as np \n",
    "#vettori\n",
    "vettore1 = np.array([1,2,3])\n",
    "vettore2 = np.array([1,2,3])\n",
    "\n",
    "#matrici\n",
    "matrix=np.array([[1,2,3],[1,4,5],[5,6,7]])\n",
    "print(matrix)"
   ]
  },
  {
   "cell_type": "code",
   "execution_count": null,
   "metadata": {},
   "outputs": [],
   "source": [
    "# somma tra vettori\n",
    "print(vettore1+vettore2)"
   ]
  },
  {
   "cell_type": "code",
   "execution_count": null,
   "metadata": {},
   "outputs": [],
   "source": [
    "# prodotto tra vettori/matrici (elemento per elemento!!)\n",
    "print(vettore1*vettore2)"
   ]
  },
  {
   "cell_type": "code",
   "execution_count": null,
   "metadata": {},
   "outputs": [],
   "source": [
    "#prodotto scalare\n",
    "print(vettore1.dot(vettore2))"
   ]
  },
  {
   "cell_type": "code",
   "execution_count": null,
   "metadata": {},
   "outputs": [],
   "source": [
    "#trasposta di una matrice\n",
    "print(matrix.T)"
   ]
  },
  {
   "cell_type": "code",
   "execution_count": null,
   "metadata": {},
   "outputs": [],
   "source": [
    "#inversa di una matrice\n",
    "from numpy.linalg import inv\n",
    "inv(matrix)"
   ]
  },
  {
   "cell_type": "code",
   "execution_count": null,
   "metadata": {},
   "outputs": [],
   "source": [
    "inv(matrix).dot(matrix)"
   ]
  },
  {
   "cell_type": "code",
   "execution_count": null,
   "metadata": {},
   "outputs": [],
   "source": [
    "#array equispaziati\n",
    "np.linspace(1,2,10) #fisso il numero di intervalli\n",
    "np.arange(1,10,0.1) #fisso lo step"
   ]
  },
  {
   "cell_type": "code",
   "execution_count": null,
   "metadata": {},
   "outputs": [],
   "source": [
    "#funzioni\n",
    "print('sin(0)=',np.sin(0))\n",
    "print('cos(0)=',np.cos(np.pi/2))\n",
    "#costanti\n",
    "print('Pi greco=',np.pi)\n",
    "print('numero di Nepero=',np.e)\n"
   ]
  },
  {
   "cell_type": "markdown",
   "metadata": {},
   "source": [
    "### Esercizio Casa: Calcoliamo integrale di e**x tra 0 e 1. "
   ]
  },
  {
   "cell_type": "code",
   "execution_count": null,
   "metadata": {},
   "outputs": [],
   "source": []
  }
 ],
 "metadata": {
  "kernelspec": {
   "display_name": "Python [default]",
   "language": "python",
   "name": "python3"
  },
  "language_info": {
   "codemirror_mode": {
    "name": "ipython",
    "version": 3
   },
   "file_extension": ".py",
   "mimetype": "text/x-python",
   "name": "python",
   "nbconvert_exporter": "python",
   "pygments_lexer": "ipython3",
   "version": "3.6.3"
  }
 },
 "nbformat": 4,
 "nbformat_minor": 2
}
