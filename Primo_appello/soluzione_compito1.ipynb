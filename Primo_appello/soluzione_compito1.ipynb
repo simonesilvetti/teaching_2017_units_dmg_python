{
 "cells": [
  {
   "cell_type": "markdown",
   "metadata": {},
   "source": [
    "1) Definire una funzione che prende in input un intero N (maggiore o uguale a zero) e genera una lista contenente N numeri\n",
    "interi randomici tra 0 e 9.\n",
    "Esempio:  generaArray(3) -> [0,1,7]\n"
   ]
  },
  {
   "cell_type": "code",
   "execution_count": 41,
   "metadata": {},
   "outputs": [],
   "source": [
    "#Peso 1\n",
    "import random\n",
    "def generaArray(N):\n",
    "    return [random.randint(0,9) for i in range(N)]"
   ]
  },
  {
   "cell_type": "code",
   "execution_count": 31,
   "metadata": {},
   "outputs": [
    {
     "data": {
      "text/plain": [
       "[]"
      ]
     },
     "execution_count": 31,
     "metadata": {},
     "output_type": "execute_result"
    }
   ],
   "source": [
    "generaArray(0)"
   ]
  },
  {
   "cell_type": "markdown",
   "metadata": {},
   "source": [
    "2)Definire una funzione che prende in input un dizionario del seguente tipo:\n",
    "studente = {'nome': [nome], 'cognome': [cognome] , 'esame': [esame], 'voto': [voto]}\n",
    "e stampa  a schermo:\n",
    " \t\"lo studente [cognome] [nome] ha superato l'esame di [esame]\"\n",
    "se il voto è maggiore o uguale a 18. In caso contrario stampa:\n",
    "\t\"lo studente [cognome] [nome] ha superato l'esame di [esame]\"\n"
   ]
  },
  {
   "cell_type": "code",
   "execution_count": null,
   "metadata": {},
   "outputs": [],
   "source": [
    "#Peso 1\n",
    "def stampaRisultEsame(diz):\n",
    "    if  diz['voto'] >= 18:\n",
    "        print(\"lo studente {} {} ha superato l'esame di {}\".format(diz['cognome'], diz['nome'],diz['esame']))\n",
    "    else:\n",
    "        print(\"lo studente {} {} non ha superato l'esame di {}\".format(diz['cognome'], diz['nome'],diz['esame']))"
   ]
  },
  {
   "cell_type": "code",
   "execution_count": null,
   "metadata": {},
   "outputs": [],
   "source": [
    "studente = {'nome': 'Simone', 'cognome': 'Silvetti' , 'esame': 'Programmazione', 'voto': 17} "
   ]
  },
  {
   "cell_type": "code",
   "execution_count": null,
   "metadata": {},
   "outputs": [],
   "source": [
    "stampaRisultEsame(studente)"
   ]
  },
  {
   "cell_type": "markdown",
   "metadata": {},
   "source": [
    "3)Usare la list cohmprension per definire una lista contenente le tuple (a,b,c) tali che a*a+b=c, con a b e c che assumono valori interi\n",
    "tra 2 e 45 (incluso) \n",
    "Esempio: [(2,2,6),(3,2,11) ]\n"
   ]
  },
  {
   "cell_type": "code",
   "execution_count": null,
   "metadata": {},
   "outputs": [],
   "source": [
    "#Peso 1\n",
    "[(a,b,c) for a in range(2,46) for b in range(2,46) for c in range(2,46) if a*a+b==c]"
   ]
  },
  {
   "cell_type": "markdown",
   "metadata": {},
   "source": [
    "4) Definire una funzione ricorsiva che calcoli la somma dei primi N numeri interi.\n"
   ]
  },
  {
   "cell_type": "code",
   "execution_count": 35,
   "metadata": {},
   "outputs": [],
   "source": [
    "#Peso 2\n",
    "def somma(N):\n",
    "    if N<1:\n",
    "        return 0\n",
    "    else:\n",
    "        return N + somma(N-1)"
   ]
  },
  {
   "cell_type": "code",
   "execution_count": 36,
   "metadata": {},
   "outputs": [
    {
     "data": {
      "text/plain": [
       "0"
      ]
     },
     "execution_count": 36,
     "metadata": {},
     "output_type": "execute_result"
    }
   ],
   "source": [
    "somma(-1)"
   ]
  },
  {
   "cell_type": "markdown",
   "metadata": {},
   "source": [
    "5) Definire una funzione che prenda in input una parola e controlli se esistono due lettere uguali equidistanti dagli\n",
    " estremi della parola stessa. Se questo è il caso la funzione ritorna true altrimenti false.\n",
    "Esempi: \n",
    "'arare' -->  true (perchè aRaRe le R maiuscole sono entrambi a distanza 1 dal bordo della parola.)\n",
    "'Pallone' -->  false. \n",
    "'acaraci' --> true (grazie alla  c)"
   ]
  },
  {
   "cell_type": "code",
   "execution_count": 37,
   "metadata": {},
   "outputs": [],
   "source": [
    "#Peso 2\n",
    "def controlloP(parola):\n",
    "    for i in range(len(parola)//2):\n",
    "        if parola[i]==parola[-1-i]:\n",
    "            return True\n",
    "        \n",
    "    return False"
   ]
  },
  {
   "cell_type": "code",
   "execution_count": 40,
   "metadata": {},
   "outputs": [
    {
     "name": "stdout",
     "output_type": "stream",
     "text": [
      "True\n",
      "False\n",
      "True\n"
     ]
    }
   ],
   "source": [
    "print(controlloP('arare'))\n",
    "print(controlloP('pallone'))\n",
    "print(controlloP('acaraci'))"
   ]
  },
  {
   "cell_type": "markdown",
   "metadata": {},
   "source": [
    "6)  Definire una funzione che prende in input il file di testo [testo.txt] e definisce un dizionario con chiavi  le\n",
    "lettere dell'alfabeto e come valore la parola presente nel testo che inizia con quella lettera ed ha lunghezza maggiore di tutte le altre parole che iniziano con quella lettera. Se due hanno la stssa lunghezza si tiene la prima.\n",
    "Se non esiste nessuna parola che inizia  con specifica lettera dell'alfabeto quella lettera non deve essere presente\n",
    "come chiave del dizionario. \n",
    "Attenzione: dovete eliminare la punteggiatura (virgole e punti) e ridurre tutte le lettere maisucole. "
   ]
  },
  {
   "cell_type": "code",
   "execution_count": 23,
   "metadata": {},
   "outputs": [],
   "source": [
    "#Peso 3\n",
    "def defDiz(testo):\n",
    "    with open(testo) as file: \n",
    "        s = file.read()\n",
    "        listaParole = s.split(\" \")\n",
    "        diz = {}\n",
    "        for parola in listaParole:\n",
    "            lettera = parola[0]\n",
    "            if lettera in diz:\n",
    "                if len(parola) > len(diz[lettera]):\n",
    "                    diz[lettera]=parola\n",
    "            else:\n",
    "                diz[lettera]=parola\n",
    "        return diz"
   ]
  },
  {
   "cell_type": "code",
   "execution_count": 24,
   "metadata": {},
   "outputs": [
    {
     "data": {
      "text/plain": [
       "{'a': 'antesuspendisse',\n",
       " 'b': 'bibendum',\n",
       " 'c': 'consectetur',\n",
       " 'd': 'dignissim',\n",
       " 'e': 'efficitur',\n",
       " 'f': 'fringilla',\n",
       " 'g': 'gravida',\n",
       " 'h': 'hendrerit',\n",
       " 'i': 'imperdiet',\n",
       " 'j': 'justo',\n",
       " 'l': 'lobortis',\n",
       " 'm': 'maecenas',\n",
       " 'n': 'nullam',\n",
       " 'o': 'odio',\n",
       " 'p': 'pellentesque',\n",
       " 'q': 'quisque',\n",
       " 'r': 'rhoncus',\n",
       " 's': 'sollicitudin',\n",
       " 't': 'tortorsuspendisse',\n",
       " 'u': 'ullamcorper',\n",
       " 'v': 'vestibulum'}"
      ]
     },
     "execution_count": 24,
     "metadata": {},
     "output_type": "execute_result"
    }
   ],
   "source": [
    "defDiz('testo.txt')"
   ]
  },
  {
   "cell_type": "code",
   "execution_count": 42,
   "metadata": {},
   "outputs": [],
   "source": [
    "def lunghezza(parola):\n",
    "    cont=0\n",
    "    for i in range(int(len(parola))):\n",
    "        if parola[i]==parola[len(parola)-(i+1)]:\n",
    "            cont=cont+1\n",
    "    if (cont>0):\n",
    "        print('true')\n",
    "    else:\n",
    "        print('false')"
   ]
  },
  {
   "cell_type": "code",
   "execution_count": 44,
   "metadata": {},
   "outputs": [
    {
     "name": "stdout",
     "output_type": "stream",
     "text": [
      "true\n"
     ]
    }
   ],
   "source": [
    "lunghezza('ab')"
   ]
  },
  {
   "cell_type": "code",
   "execution_count": null,
   "metadata": {},
   "outputs": [],
   "source": []
  }
 ],
 "metadata": {
  "kernelspec": {
   "display_name": "Python 3",
   "language": "python",
   "name": "python3"
  },
  "language_info": {
   "codemirror_mode": {
    "name": "ipython",
    "version": 3
   },
   "file_extension": ".py",
   "mimetype": "text/x-python",
   "name": "python",
   "nbconvert_exporter": "python",
   "pygments_lexer": "ipython3",
   "version": "3.6.2"
  }
 },
 "nbformat": 4,
 "nbformat_minor": 2
}
